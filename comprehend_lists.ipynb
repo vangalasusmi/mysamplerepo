{
  "nbformat": 4,
  "nbformat_minor": 0,
  "metadata": {
    "colab": {
      "provenance": [],
      "authorship_tag": "ABX9TyMqMXy3ZIRERV1+tEtQBs7a",
      "include_colab_link": true
    },
    "kernelspec": {
      "name": "python3",
      "display_name": "Python 3"
    },
    "language_info": {
      "name": "python"
    }
  },
  "cells": [
    {
      "cell_type": "markdown",
      "metadata": {
        "id": "view-in-github",
        "colab_type": "text"
      },
      "source": [
        "<a href=\"https://colab.research.google.com/github/vangalasusmi/mysamplerepo/blob/dev/comprehend_lists.ipynb\" target=\"_parent\"><img src=\"https://colab.research.google.com/assets/colab-badge.svg\" alt=\"Open In Colab\"/></a>"
      ]
    },
    {
      "cell_type": "code",
      "source": [
        "table_list=[1,2,3,4,5,6,7,8,9,10]\n",
        "table1=[x**2 for x in table_list if x%2==0]\n"
      ],
      "metadata": {
        "id": "Nl0DZEsSXGqJ"
      },
      "execution_count": 7,
      "outputs": []
    },
    {
      "cell_type": "code",
      "source": [
        "table1"
      ],
      "metadata": {
        "colab": {
          "base_uri": "https://localhost:8080/"
        },
        "id": "ipuGauCkX_SJ",
        "outputId": "49c96635-6952-4364-a8c2-183911cbc164"
      },
      "execution_count": 8,
      "outputs": [
        {
          "output_type": "execute_result",
          "data": {
            "text/plain": [
              "[4, 16, 36, 64, 100]"
            ]
          },
          "metadata": {},
          "execution_count": 8
        }
      ]
    },
    {
      "cell_type": "code",
      "source": [
        "dupl_list=[2,2,2,4,4,4,7,7,7,1,1,1,4,4,45,5,5]\n",
        "remv_dupl=[x for i, x in enumerate(dupl_list) if x not in dupl_list[:i]]"
      ],
      "metadata": {
        "id": "gwiudkGVYGE-"
      },
      "execution_count": 10,
      "outputs": []
    },
    {
      "cell_type": "code",
      "source": [
        "remv_dupl"
      ],
      "metadata": {
        "colab": {
          "base_uri": "https://localhost:8080/"
        },
        "id": "6B9VseySZozq",
        "outputId": "1beb2628-8a05-49d0-ff42-fdce0dddbf7d"
      },
      "execution_count": 11,
      "outputs": [
        {
          "output_type": "execute_result",
          "data": {
            "text/plain": [
              "[2, 4, 7, 1, 45, 5]"
            ]
          },
          "metadata": {},
          "execution_count": 11
        }
      ]
    },
    {
      "cell_type": "code",
      "source": [
        "enum_list=[1,2,3,4,5]\n",
        "list(enumerate(enum_list))"
      ],
      "metadata": {
        "colab": {
          "base_uri": "https://localhost:8080/"
        },
        "id": "lUiRnRADZsQG",
        "outputId": "b714ed38-c211-44b7-bb13-a8ef970de6f8"
      },
      "execution_count": 12,
      "outputs": [
        {
          "output_type": "execute_result",
          "data": {
            "text/plain": [
              "[(0, 1), (1, 2), (2, 3), (3, 4), (4, 5)]"
            ]
          },
          "metadata": {},
          "execution_count": 12
        }
      ]
    },
    {
      "cell_type": "code",
      "source": [
        "enum_list[:2]"
      ],
      "metadata": {
        "colab": {
          "base_uri": "https://localhost:8080/"
        },
        "id": "5EM30kDfavN3",
        "outputId": "193ada1d-a957-49e6-c2d1-51bc9e471c01"
      },
      "execution_count": 15,
      "outputs": [
        {
          "output_type": "execute_result",
          "data": {
            "text/plain": [
              "[1, 2]"
            ]
          },
          "metadata": {},
          "execution_count": 15
        }
      ]
    },
    {
      "cell_type": "code",
      "source": [
        "#WOrking on LISTS\n",
        "\n",
        "list1=['apple','banana','cherry','mango','strawberry','apple','banana']\n"
      ],
      "metadata": {
        "id": "jGRARiC7a-R5"
      },
      "execution_count": 60,
      "outputs": []
    },
    {
      "cell_type": "code",
      "source": [
        "list1.pop()"
      ],
      "metadata": {
        "colab": {
          "base_uri": "https://localhost:8080/",
          "height": 35
        },
        "id": "1Rbi5oK_kpGA",
        "outputId": "9889fac9-7fe7-4fa5-c9cd-25f307358a9e"
      },
      "execution_count": 61,
      "outputs": [
        {
          "output_type": "execute_result",
          "data": {
            "text/plain": [
              "'banana'"
            ],
            "application/vnd.google.colaboratory.intrinsic+json": {
              "type": "string"
            }
          },
          "metadata": {},
          "execution_count": 61
        }
      ]
    },
    {
      "cell_type": "code",
      "source": [
        "list1.remove('apple') -------#it removes the first occurenece of that value - o/p -['banana', 'cherry', 'mango', 'strawberry', 'apple', 'banana']\n",
        "list1.pop() # it returns the last element (we can either specify the index as well)\n",
        "list1.insert(1,'avacado') #adds elements to list1 at index1\n",
        "list1.append('Kiwi') #adds Kiwi fruits in the end.\n",
        "\n"
      ],
      "metadata": {
        "id": "Y52cco1LgKl-"
      },
      "execution_count": 19,
      "outputs": []
    },
    {
      "cell_type": "code",
      "source": [
        "while 'apple' in list1:   ###to remove the apple occurences from the list\n",
        "  list1.remove('apple')"
      ],
      "metadata": {
        "id": "-_Sa98Fogb15"
      },
      "execution_count": 35,
      "outputs": []
    },
    {
      "cell_type": "code",
      "source": [
        "#using comphrehend list for removing apple occurences from the list\n",
        "remov_fruits=[x for x in list1 if x not in ('apple')]\n",
        "remov_fruits"
      ],
      "metadata": {
        "colab": {
          "base_uri": "https://localhost:8080/"
        },
        "id": "8PwhZbmhgfiu",
        "outputId": "47c0fe12-6e1c-4915-a384-f0b1c4d3ba73"
      },
      "execution_count": 41,
      "outputs": [
        {
          "output_type": "execute_result",
          "data": {
            "text/plain": [
              "['banana', 'cherry', 'mango', 'strawberry', 'banana']"
            ]
          },
          "metadata": {},
          "execution_count": 41
        }
      ]
    },
    {
      "cell_type": "code",
      "source": [
        "#INput - list1=['apple','banana','cherry','mango','strawberry','apple','banana']\n",
        "print(list1[0])\n",
        "print(list1[-1])\n",
        "print(list1[:1])\n",
        "print(list1[1:3])\n",
        "print(list1[3:])\n"
      ],
      "metadata": {
        "colab": {
          "base_uri": "https://localhost:8080/"
        },
        "id": "jVBkQOfujiBK",
        "outputId": "4106523e-00f7-481e-9cd9-03c0658f6cde"
      },
      "execution_count": 45,
      "outputs": [
        {
          "output_type": "stream",
          "name": "stdout",
          "text": [
            "apple\n",
            "banana\n",
            "['apple']\n",
            "['banana', 'cherry']\n",
            "['mango', 'strawberry', 'apple', 'banana']\n"
          ]
        }
      ]
    },
    {
      "cell_type": "code",
      "source": [],
      "metadata": {
        "id": "4sqQyK5qjxaV"
      },
      "execution_count": null,
      "outputs": []
    }
  ]
}